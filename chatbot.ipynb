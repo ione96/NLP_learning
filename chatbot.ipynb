{
  "nbformat": 4,
  "nbformat_minor": 0,
  "metadata": {
    "colab": {
      "name": "chatbot.ipynb",
      "provenance": [],
      "collapsed_sections": [],
      "authorship_tag": "ABX9TyM9kBf+bmdE0vhSvApECiYu",
      "include_colab_link": true
    },
    "kernelspec": {
      "name": "python3",
      "display_name": "Python 3"
    },
    "language_info": {
      "name": "python"
    }
  },
  "cells": [
    {
      "cell_type": "markdown",
      "metadata": {
        "id": "view-in-github",
        "colab_type": "text"
      },
      "source": [
        "<a href=\"https://colab.research.google.com/github/ione96/NLP_learning/blob/main/chatbot.ipynb\" target=\"_parent\"><img src=\"https://colab.research.google.com/assets/colab-badge.svg\" alt=\"Open In Colab\"/></a>"
      ]
    },
    {
      "cell_type": "code",
      "metadata": {
        "id": "Hoa4ytL6gVyv"
      },
      "source": [
        "import re  \n",
        "\n",
        "r = r\"[^a-z]*([y]o|[h']?ello|ok|hey|(good[ ])?(morn[gin']{0,3}|\"\\\n",
        "    r\"afternoon|even[gin']{0,3}))[\\s,;:]{1,3}([a-z]{1,20})\" \n",
        "re_greeting = re.compile(r,flags=re.IGNORECASE) # способы приветствия\n",
        "re_greeting.match('Hello Rosa')\n",
        "re_greeting.match('Hello Rosa').groups()\n",
        "re_greeting.match(\"Good morning Rosa\")\n",
        "re_greeting.match(\"Good morning Rosa\")\n",
        "re_greeting.match(\"Good manning Rosa\")\n",
        "re_greeting.match('Good evening Rosa Parks').groups()\n",
        "re_greeting.match(\"Good Morn'n Rosa\")\n",
        "re_greeting.match('yo Rosa')\n",
        "\n",
        "my_names = set(['rosa', 'rose', 'chatty', 'chatbot', 'bot', 'chatterbot'])\n",
        "curt_names = set(['hal', 'you', 'u']) # способы обращения к чат боту\n",
        "greeter_name = ''\n",
        "match = re_greeting.match(input())\n",
        "if match:\n",
        "  at_name = match.groups()[-1] # ответ на приветствие\n",
        "  if at_name in curt_names:\n",
        "    print(\"Good one.\")\n",
        "  elif at_name.lower() in my_names:\n",
        "    print(\"Hi {}, How are you?\".format(greeter_name))"
      ],
      "execution_count": null,
      "outputs": []
    }
  ]
}