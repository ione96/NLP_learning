{
  "nbformat": 4,
  "nbformat_minor": 0,
  "metadata": {
    "colab": {
      "name": "tokens.ipynb",
      "provenance": [],
      "collapsed_sections": [],
      "authorship_tag": "ABX9TyOSw6ZBuTakD9tz6p9RbMzL",
      "include_colab_link": true
    },
    "kernelspec": {
      "name": "python3",
      "display_name": "Python 3"
    },
    "language_info": {
      "name": "python"
    }
  },
  "cells": [
    {
      "cell_type": "markdown",
      "metadata": {
        "id": "view-in-github",
        "colab_type": "text"
      },
      "source": [
        "<a href=\"https://colab.research.google.com/github/ione96/NLP_learning/blob/main/tokens.ipynb\" target=\"_parent\"><img src=\"https://colab.research.google.com/assets/colab-badge.svg\" alt=\"Open In Colab\"/></a>"
      ]
    },
    {
      "cell_type": "code",
      "metadata": {
        "id": "ANlUGmTzg4Tv"
      },
      "source": [
        "import numpy as np\n",
        "import pandas as pd\n",
        "import re\n",
        "from nltk.tokenize import RegexpTokenizer\n",
        "from nltk.tokenize import TreebankWordTokenizer\n",
        "from nltk.stem.porter import PorterStemmer\n",
        "\n",
        "sentences = \"\"\"Thomas Jefferson began building Monticello at the age of 26. \\n\"\"\"\n",
        "sentences += \"\"\"Construction was done mostly by local masons and carpenters. \\n\"\"\"\n",
        "sentences += \"He moved into the South Pavilion in 1770. \\n\"\n",
        "sentences += \"\"\"Turning Monticello into a neoclassical masterpiece was jefferson's obsession.\"\"\"\n",
        "corpus = {}\n",
        "\n",
        "# sentences.split()\n",
        "# token_sequence = str.split(sentences)\n",
        "# vocab = sorted(set(token_sequence))\n",
        "# ', '.join(vocab)\n",
        "# num_tokens = len(token_sequence)\n",
        "# vocab_size = len(vocab)\n",
        "# onehot_vectors = np.zeros((num_tokens, vocab_size), int)\n",
        "# for i, word in enumerate(token_sequence):\n",
        "#    onehot_vectors[i, vocab.index(word)] = 1\n",
        "# ' '.join(vocab)\n",
        "# df = pd.DataFrame(pd.Series(dict([(token, 1) for token in\n",
        "#                                 sentences.split()])), columns=['sent']).T\n",
        "\n",
        "tokens = re.split(r'[-\\s.,;!?]+', sentences) # разделение токенов по пробелам и \n",
        "print(tokens)                                # знакам препинания\n",
        "\n",
        "tokenizer = RegexpTokenizer(r'\\w+|$[0-9.]+|\\S+') # токенизация regex\n",
        "print(tokenizer.tokenize(sentences))\n",
        "\n",
        "tokenizer = TreebankWordTokenizer()   # токенизация Treebank\n",
        "print(tokenizer.tokenize(sentences))\n",
        "\n",
        "tokenses = ['Houses', 'Visitors', 'CeNtEr']\n",
        "normalized_tokens = [x.lower() for x in tokenses] # нормализация\n",
        "print(normalized_tokens)\n",
        "\n",
        "stemmer = PorterStemmer()  # стеммер\n",
        "stem = ' '.join([stemmer.stem(w).strip(\"'\") for w in \"dish washer's washed dishes\".split()])\n",
        "print(stem)\n",
        "\n",
        "for i, sent in enumerate(sentences.split('\\n')):      # создание DataFrame\n",
        "    corpus['sent{}'.format(i)] = dict((tok, 1) for tok in sent.split())\n",
        "df = pd.DataFrame.from_records(corpus).fillna(0).astype(int).T\n",
        "print(df[df.columns[:10]])"
      ],
      "execution_count": null,
      "outputs": []
    }
  ]
}